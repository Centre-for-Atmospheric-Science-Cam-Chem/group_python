{
 "cells": [
  {
   "cell_type": "markdown",
   "id": "0941568c",
   "metadata": {
    "vscode": {
     "languageId": "plaintext"
    }
   },
   "source": [
    "# convert pp to zarr\n",
    "\n",
    "---\n",
    "\n",
    "This notebook is for testing the conversion interactively.\n"
   ]
  },
  {
   "cell_type": "code",
   "execution_count": null,
   "id": "6394272c",
   "metadata": {},
   "outputs": [],
   "source": [
    "import iris\n",
    "from datetime import datetime\n",
    "import xarray as xr\n",
    "import STASH_fields_defs as def_STASH\n",
    "\n",
    "pp_file_path = \"/gws/nopw/j04/acsis/ptg21/ax631/pp_files/ax631a.pm1989dec.pp\"  #\n",
    "zarr_file_path = \"/work/scratch-pw2/vs480/test.zarr\"\n",
    "\n",
    "\n",
    "def get_current_time():\n",
    "    # Print current time\n",
    "    now = datetime.now()\n",
    "    current_time = now.strftime(\"%H:%M:%S\")\n",
    "    return current_time"
   ]
  },
  {
   "cell_type": "code",
   "execution_count": null,
   "id": "5b36ddce",
   "metadata": {},
   "outputs": [],
   "source": [
    "# read in .pp file\n",
    "print(f\"  Loading file ... {get_current_time()}\", end=\"\")\n",
    "cubes = iris.load(pp_file_path, callback=def_STASH.UKCA_callback)\n",
    "print(f\" - {get_current_time()}  DONE\")\n",
    "\n",
    "# convert cubes to xarray Dataset\n",
    "data_vars = {}\n",
    "for cube in cubes:\n",
    "    da = xr.DataArray.from_iris(cube)\n",
    "    name = cube.name() or f\"var_{len(data_vars)}\"\n",
    "    data_vars[name] = da\n",
    "ds = xr.Dataset(data_vars)\n",
    "\n",
    "# Define your desired new chunking pattern\n",
    "new_chunks = {\"model_level_number\": 10, \"latitude\": 36, \"longitude\": 48}\n",
    "\n",
    "# Rechunk the dataset\n",
    "ds_rechunked = ds.chunk(new_chunks)\n",
    "\n",
    "# Build encoding dict for all data variables\n",
    "encoding = {\n",
    "    var: {\n",
    "        \"chunks\": list(new_chunks.values()),\n",
    "        \"compressor\": None,  # optional: use zarr.Blosc() for compression\n",
    "    }\n",
    "    for var in ds.data_vars\n",
    "}\n",
    "\n",
    "print(f\"  Saving to .zarr ... {get_current_time()}\", end=\"\")\n",
    "# Save to Zarr\n",
    "ds_rechunked.to_zarr(zarr_file_path, mode=\"w\", encoding=encoding)\n",
    "print(f\" - {get_current_time()}  DONE\")\n",
    "print(f\"  File saved to {zarr_file_path}\")\n",
    "print(f\"-----------------------------------------------------------\")"
   ]
  },
  {
   "cell_type": "code",
   "execution_count": null,
   "id": "bf6a88e9",
   "metadata": {},
   "outputs": [],
   "source": []
  }
 ],
 "metadata": {
  "kernelspec": {
   "display_name": "cmip6-env",
   "language": "python",
   "name": "python3"
  },
  "language_info": {
   "codemirror_mode": {
    "name": "ipython",
    "version": 3
   },
   "file_extension": ".py",
   "mimetype": "text/x-python",
   "name": "python",
   "nbconvert_exporter": "python",
   "pygments_lexer": "ipython3",
   "version": "3.9.19"
  }
 },
 "nbformat": 4,
 "nbformat_minor": 5
}
