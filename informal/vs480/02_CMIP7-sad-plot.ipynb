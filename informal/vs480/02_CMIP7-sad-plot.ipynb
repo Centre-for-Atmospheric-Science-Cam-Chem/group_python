{
 "cells": [
  {
   "cell_type": "markdown",
   "id": "9ba385f4",
   "metadata": {},
   "source": [
    "# Plot piControl output from simulation using CMIP7 SAD\n",
    "\n",
    "---\n",
    "\n",
    "Create date: 2025-08-2819\n"
   ]
  },
  {
   "cell_type": "code",
   "execution_count": 49,
   "id": "3e370ef8",
   "metadata": {},
   "outputs": [],
   "source": [
    "import yaml\n",
    "import iris\n",
    "import xarray as xr\n",
    "from ncdata.iris_xarray import cubes_to_xarray\n",
    "import sys\n",
    "import matplotlib.pyplot as plt\n",
    "\n",
    "# modules from this directory\n",
    "sys.path.append(\"../../\")\n",
    "from src.util.STASH_fields_defs import UKCA_callback\n",
    "import src.const as CONST\n",
    "\n",
    "\n",
    "# from src.util.load_data import *"
   ]
  },
  {
   "cell_type": "code",
   "execution_count": 50,
   "id": "fa655350",
   "metadata": {},
   "outputs": [],
   "source": [
    "# Load config\n",
    "with open(\"config.yaml\") as f:\n",
    "    config = yaml.safe_load(f)"
   ]
  },
  {
   "cell_type": "code",
   "execution_count": 51,
   "id": "8116c22e",
   "metadata": {},
   "outputs": [],
   "source": [
    "def generate_dataset_file_paths(\n",
    "    data_root_dir: str, dataset_suites: dict[str, str], stashes: list[str]\n",
    "):\n",
    "    \"\"\"\n",
    "    Create dictionary of lists of file paths for each suite.\n",
    "\n",
    "    Parameters\n",
    "    ----------\n",
    "    data_root_dir : str\n",
    "        Root directory where data is stored.\n",
    "    dataset_suites : dict of str\n",
    "        Mapping of dataset names to Rose suite IDs. e.g. u-ab123\n",
    "    stashes : list of str\n",
    "        List of stash items. e.g. 50001\n",
    "\n",
    "    Returns\n",
    "    -------\n",
    "    dict of str to list of str\n",
    "        Dictionary mapping dataset names to lists of file paths.\n",
    "\n",
    "    \"\"\"\n",
    "    paths = {}\n",
    "    for exp, suite in dataset_suites.items():\n",
    "        paths[exp] = [f\"{data_root_dir}/{suite}_apy.pp_{v}/*.pp\" for v in stashes]\n",
    "    return paths"
   ]
  },
  {
   "cell_type": "code",
   "execution_count": 52,
   "id": "29270abb",
   "metadata": {},
   "outputs": [],
   "source": [
    "def load_xr_from_pp(\n",
    "    paths: list[str],\n",
    "    rename_coords: bool = False,\n",
    "    rename_dict: dict = None,\n",
    "):\n",
    "    \"\"\"\n",
    "    Load a list of PP files into an xarray.Dataset .\n",
    "\n",
    "    Parameters\n",
    "    ----------\n",
    "    paths : list of str\n",
    "        List of file paths to load. May contain wildcard (*)\n",
    "    rename_coords : bool, optional\n",
    "        If True, rename coordinates using `rename_dict`. Default is False.\n",
    "    rename_dict : dict, optional\n",
    "        Dictionary mapping original coordinate names to new names. If None and renaming is requested,\n",
    "        a default mapping for 'latitude', 'longitude', and 'model_level_number' is used.\n",
    "\n",
    "    Returns\n",
    "    -------\n",
    "    xarray.Dataset\n",
    "        The loaded dataset with coordinates optionally renamed.\n",
    "    \"\"\"\n",
    "\n",
    "    # Check if paths is set\n",
    "    if not paths:\n",
    "        raise FileNotFoundError(\"No file paths provided to load_xr_from_pp.\")\n",
    "\n",
    "    # ensure dataset-level and variable-level attributes loaded correctly\n",
    "    iris.FUTURE.save_split_attrs = True\n",
    "\n",
    "    iris_cube = iris.load(paths, callback=UKCA_callback)\n",
    "\n",
    "    ds = cubes_to_xarray(iris_cube)\n",
    "    if rename_coords:\n",
    "        if rename_dict is None:\n",
    "            rename_dict = {\n",
    "                \"latitude\": \"lat\",\n",
    "                \"longitude\": \"lon\",\n",
    "                \"model_level_number\": \"lev\",\n",
    "            }\n",
    "\n",
    "        ds = ds.rename(rename_dict)\n",
    "\n",
    "    return ds\n",
    "\n",
    "\n",
    "def load_multiple_exps(\n",
    "    config: dict,\n",
    "    exp_subset: list[str] = None,\n",
    "    stashes_subset: list[str] = None,\n",
    "    rename_coords: bool = False,\n",
    "    input_type: str = \"pp\",\n",
    "    loaded_as: str = \"xarray\",\n",
    "):\n",
    "    \"\"\"\n",
    "    Load multiple experiments' datasets from pp files as xarray objects based on configuration and optional subsets.\n",
    "\n",
    "    Parameters\n",
    "    ----------\n",
    "    config : dict\n",
    "        Configuration dictionary containing 'dataset_suites', 'stashes', and 'pp_root_dir'.\n",
    "    exp_subset : list of str, optional\n",
    "        List of experiment keys to load. If None, all experiments in config['dataset_suites'] are loaded.\n",
    "    stashes_subset : list of str, optional\n",
    "        List of stash codes to load. If None, all stashes in config['stashes'] are loaded.\n",
    "    rename_coords : bool, optional\n",
    "        If True, rename coordinates using `rename_dict`. Default is False.\n",
    "    Returns\n",
    "    -------\n",
    "    dict of str to xarray.Dataset\n",
    "        Dictionary mapping experiment names to loaded xarray datasets.\n",
    "    \"\"\"\n",
    "\n",
    "    if exp_subset is None:\n",
    "        datasets_load = config[\"dataset_suites\"]\n",
    "    else:\n",
    "        datasets_load = {\n",
    "            exp: config[\"dataset_suites\"][exp][\"rose-suite\"]\n",
    "            for exp in exp_subset\n",
    "            if exp in config[\"dataset_suites\"]\n",
    "        }\n",
    "\n",
    "    if stashes_subset is None:\n",
    "        stashes_load = config[\"stashes\"]\n",
    "    else:\n",
    "        stashes_load = stashes_subset\n",
    "\n",
    "    dataset_paths = generate_dataset_file_paths(\n",
    "        data_root_dir=config[\"pp_root_dir\"],\n",
    "        dataset_suites=datasets_load,\n",
    "        stashes=stashes_load,\n",
    "    )\n",
    "\n",
    "    if input_type == \"pp\" and loaded_as == \"xarray\":\n",
    "        datasets = {\n",
    "            exp: load_xr_from_pp(paths, rename_coords=rename_coords)\n",
    "            for exp, paths in dataset_paths.items()\n",
    "        }\n",
    "\n",
    "    return datasets"
   ]
  },
  {
   "cell_type": "markdown",
   "id": "06411cd0",
   "metadata": {},
   "source": [
    "## Load data\n"
   ]
  },
  {
   "cell_type": "code",
   "execution_count": 53,
   "id": "42a3814c",
   "metadata": {},
   "outputs": [
    {
     "name": "stderr",
     "output_type": "stream",
     "text": [
      "/home/users/vs480/.conda/envs/cmip6-env/lib/python3.9/site-packages/iris/fileformats/rules.py:338: IrisUserWarning: Unable to create instance of HybridHeightFactory. The source data contains no field(s) for 'orography'.\n",
      "  warnings.warn(\n"
     ]
    }
   ],
   "source": [
    "# Subset of values to load\n",
    "exp_subset = [\n",
    "    \"e1.3-piControl-cmip7-sad7\",\n",
    "]\n",
    "\n",
    "stashes_subset = [\"34001\", \"34966\"]\n",
    "\n",
    "datasets = load_multiple_exps(config, exp_subset, stashes_subset, rename_coords=True)"
   ]
  },
  {
   "cell_type": "markdown",
   "id": "3e6825a1",
   "metadata": {},
   "source": [
    "## Plot aerosol surface area density\n"
   ]
  },
  {
   "cell_type": "code",
   "execution_count": 54,
   "id": "ccd8987c",
   "metadata": {},
   "outputs": [],
   "source": [
    "def create_custom_subplots(\n",
    "    fig_width, widths_subplot, heights_subplot, exclude_bottom_rows: int = 0\n",
    "):\n",
    "\n",
    "    fig = plt.figure(figsize=(fig_width, 0.5 * fig_width))\n",
    "\n",
    "    nrow = len(heights_subplot)\n",
    "    ncol = len(widths_subplot)\n",
    "\n",
    "    gs = fig.add_gridspec(\n",
    "        nrow, ncol, width_ratios=widths_subplot, height_ratios=heights_subplot\n",
    "    )\n",
    "\n",
    "    if nrow - exclude_bottom_rows < 0:\n",
    "        raise ValueError(\"nrow < 0\")\n",
    "\n",
    "    axs = [\n",
    "        fig.add_subplot(gs[i, j])\n",
    "        for i in range(nrow - exclude_bottom_rows)\n",
    "        for j in range(ncol)\n",
    "    ]\n",
    "\n",
    "    return fig, axs, gs, nrow, ncol"
   ]
  },
  {
   "cell_type": "code",
   "execution_count": 55,
   "id": "35556931",
   "metadata": {},
   "outputs": [
    {
     "name": "stdout",
     "output_type": "stream",
     "text": [
      "e1.3-piControl-cmip7-sad7\n",
      "o3\n"
     ]
    }
   ],
   "source": [
    "zonal_mean_ppb = {e: xr.Dataset() for e in datasets.keys()}\n",
    "\n",
    "molar_masses = {\n",
    "    \"o3\": CONST.M_O3,\n",
    "}\n",
    "\n",
    "for exp in zonal_mean_ppb.keys():\n",
    "    print(exp)\n",
    "    for species in [\"o3\"]:\n",
    "        zonal_mean_ppb[exp][species] = (\n",
    "            datasets[exp][species]\n",
    "            .sel(time=slice(\"1865-01-01\", \"1895-01-01\"))  # after spin-up\n",
    "            .mean(dim=[\"lon\", \"time\"])\n",
    "            .load()\n",
    "            / molar_masses[species]\n",
    "            * CONST.M_AIR\n",
    "            * 1e9\n",
    "        )"
   ]
  },
  {
   "cell_type": "code",
   "execution_count": 62,
   "id": "27e46fde",
   "metadata": {},
   "outputs": [
    {
     "data": {
      "text/plain": [
       "Text(0.5, 1.0, 'Mean aerosol surface area density (1850-2021)')"
      ]
     },
     "execution_count": 62,
     "metadata": {},
     "output_type": "execute_result"
    },
    {
     "data": {
      "image/png": "[encoded data removed]",
      "text/plain": [
       "<Figure size 640x480 with 2 Axes>"
      ]
     },
     "metadata": {},
     "output_type": "display_data"
    }
   ],
   "source": [
    "fig, ax = plt.subplots()\n",
    "plot_data = (\n",
    "    datasets[\"e1.3-piControl-cmip7-sad7\"][\"aerosol_sa_density\"]\n",
    "    .isel(time=-1)\n",
    "    .mean(dim=\"lon\")\n",
    "    * 1e6\n",
    ")\n",
    "\n",
    "plot_data.plot(\n",
    "    ax=ax,\n",
    "    x=\"lat\",\n",
    "    y=\"level_height\",\n",
    "    cmap=plt.cm.Reds,\n",
    "    vmin=0,\n",
    "    vmax=0.1,\n",
    "    levels=11,\n",
    "    extend=\"max\",\n",
    "    cbar_kwargs={\n",
    "        \"orientation\": \"horizontal\",\n",
    "        \"label\": \"Aerosol SAD | STASH:34966 $\\\\times 10^6$ [$\\mu$m$^2$ cm$^{-3}$]\",\n",
    "    },\n",
    ")\n",
    "\n",
    "ax.set_xticks(range(-90, 91, 30))\n",
    "ax.set_xlabel(\"Latitude\")\n",
    "ax.set_yticks(range(0, 40001, 5000))\n",
    "ax.set_ylim(5000, 40000)\n",
    "ax.set_yticklabels([i / 1000 for i in ax.get_yticks()])\n",
    "ax.set_ylabel(\"Height (km)\")\n",
    "ax.set_title(\"Mean aerosol surface area density (1850-2021)\")"
   ]
  }
 ],
 "metadata": {
  "kernelspec": {
   "display_name": "cmip6-env",
   "language": "python",
   "name": "python3"
  },
  "language_info": {
   "codemirror_mode": {
    "name": "ipython",
    "version": 3
   },
   "file_extension": ".py",
   "mimetype": "text/x-python",
   "name": "python",
   "nbconvert_exporter": "python",
   "pygments_lexer": "ipython3",
   "version": "3.9.19"
  }
 },
 "nbformat": 4,
 "nbformat_minor": 5
}
